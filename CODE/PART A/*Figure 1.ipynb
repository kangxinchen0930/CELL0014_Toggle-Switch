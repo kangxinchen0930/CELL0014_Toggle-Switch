{
 "cells": [
  {
   "cell_type": "code",
   "execution_count": 1,
   "metadata": {},
   "outputs": [],
   "source": [
    "%matplotlib inline\n",
    "from scipy.integrate import odeint  \n",
    "import numpy as np\n",
    "from matplotlib import pyplot as plt\n",
    "from shapely.geometry import LineString"
   ]
  },
  {
   "cell_type": "code",
   "execution_count": 2,
   "metadata": {},
   "outputs": [],
   "source": [
    "def sdot_repressor(s,t,params):\n",
    "    \n",
    "    # variables and parameters\n",
    "    P, Pr = s\n",
    "    kp, kdp, K, n = params\n",
    "    \n",
    "    # rate equations in the presence of repressor\n",
    "    rate_P_production = kp * ((K**n)/(Pr**n + K**n))\n",
    "    rate_P_loss = -kdp*P\n",
    "    dP = rate_P_production + rate_P_loss\n",
    "    dPr = 0\n",
    "    dsdt = [dP, dPr]\n",
    "    \n",
    "    return dsdt"
   ]
  },
  {
   "cell_type": "code",
   "execution_count": 3,
   "metadata": {},
   "outputs": [
    {
     "name": "stdout",
     "output_type": "stream",
     "text": [
      "Protein copies without repressor is 7200.0 and with repressor is 57.85140363059221\n"
     ]
    },
    {
     "data": {
      "image/png": "[encoded data removed]",
      "text/plain": [
       "<Figure size 720x432 with 1 Axes>"
      ]
     },
     "metadata": {
      "needs_background": "light"
     },
     "output_type": "display_data"
    }
   ],
   "source": [
    "# Define parameters' values\n",
    "kp = 120.0\n",
    "K = 3000.0\n",
    "n = 4.0\n",
    "kdp = 1.0/60.0\n",
    "params = [kp, kdp, K, n]\n",
    "\n",
    "# Define list of observation points 't_obs'\n",
    "t_start = 0\n",
    "t_end = 400\n",
    "n_obs = 1000\n",
    "t_obs = np.linspace(t_start, t_end, n_obs)\n",
    "\n",
    "# Define initial conditions for Pr = 0 (repressor absent)\n",
    "# Use the odeint function to simulate system\n",
    "# and unpack s_obs1 (repressor absent) into variable observations\n",
    "\n",
    "P = kp/kdp\n",
    "Pr = 0\n",
    "s0 = [P, Pr]\n",
    "\n",
    "s_obs1 = odeint(sdot_repressor, s0, t_obs, args=(params,))\n",
    "\n",
    "P_obs1 = s_obs1[:,0]\n",
    "Pr_obs1 = s_obs1[:,1]\n",
    "\n",
    "# Define initial conditions for Pr = 10000 (repressor at high level)\n",
    "# Use the odeint function to simulate system\n",
    "# Unpack s_obs2 (with repressor) into variable observations\n",
    "\n",
    "P = kp * ((K**n)/(((10000**n + K**n))*(kdp)))\n",
    "Pr = 10000\n",
    "s0 = [P, Pr]\n",
    "\n",
    "s_obs2 = odeint(sdot_repressor, s0, t_obs, args=(params,))\n",
    "\n",
    "P_obs2 = s_obs2[:,0]\n",
    "\n",
    "# {lot results\n",
    "fig1 = plt.figure(figsize=(10,6))\n",
    "fig1.suptitle('Simplified model for gene expression', fontsize=14, fontweight='bold')\n",
    "\n",
    "ax = fig1.add_subplot(1,1,1)\n",
    "ax.plot(t_obs, P_obs1, 'r-', label='Pr=0')\n",
    "ax.plot(t_obs, P_obs2, 'b-', label='Pr=10000')\n",
    "ax.set_xlabel('Time (min)')\n",
    "ax.set_ylabel('#Protein copies')\n",
    "ax.legend(prop={'size': 15})\n",
    "ax.xaxis.label.set_size(14)\n",
    "ax.yaxis.label.set_size(14)\n",
    "ax.xaxis.set_tick_params(labelsize=13)\n",
    "ax.yaxis.set_tick_params(labelsize=13)\n",
    "\n",
    "# Calculate the steady state values of P \n",
    "print(f\"Protein copies without repressor is {P_obs1[-1]} and with repressor is {P_obs2[-1]}\")\n",
    "\n",
    "# Save figure in png\n",
    "plt.savefig('fig1.png');"
   ]
  }
 ],
 "metadata": {
  "kernelspec": {
   "display_name": "Python 3",
   "language": "python",
   "name": "python3"
  },
  "language_info": {
   "codemirror_mode": {
    "name": "ipython",
    "version": 3
   },
   "file_extension": ".py",
   "mimetype": "text/x-python",
   "name": "python",
   "nbconvert_exporter": "python",
   "pygments_lexer": "ipython3",
   "version": "3.8.8"
  }
 },
 "nbformat": 4,
 "nbformat_minor": 2
}
